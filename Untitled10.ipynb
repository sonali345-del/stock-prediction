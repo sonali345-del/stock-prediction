{
  "nbformat": 4,
  "nbformat_minor": 0,
  "metadata": {
    "colab": {
      "provenance": [],
      "authorship_tag": "ABX9TyPYxJG8O+/FiFXSIETCHjyJ",
      "include_colab_link": true
    },
    "kernelspec": {
      "name": "python3",
      "display_name": "Python 3"
    },
    "language_info": {
      "name": "python"
    }
  },
  "cells": [
    {
      "cell_type": "markdown",
      "metadata": {
        "id": "view-in-github",
        "colab_type": "text"
      },
      "source": [
        "<a href=\"https://colab.research.google.com/github/sonali345-del/stock-prediction/blob/main/Untitled10.ipynb\" target=\"_parent\"><img src=\"https://colab.research.google.com/assets/colab-badge.svg\" alt=\"Open In Colab\"/></a>"
      ]
    },
    {
      "cell_type": "code",
      "execution_count": null,
      "metadata": {
        "id": "87YtnNc8bzaH"
      },
      "outputs": [],
      "source": [
        "import yfinance as yf\n",
        "import numpy as np\n",
        "import pandas as pd\n",
        "from sklearn.preprocessing import MinMaxScaler\n",
        "from keras.models import Sequential\n",
        "from keras.layers import LSTM, Dense\n",
        "import matplotlib.pyplot as plt\n",
        "\n",
        "\n",
        "data = yf.download('AAPL', start='2015-01-01', end='2024-12-31')\n",
        "close_prices = data['Close'].values.reshape(-1, 1)\n",
        "\n",
        "\n",
        "scaler = MinMaxScaler()\n",
        "scaled_data = scaler.fit_transform(close_prices)\n",
        "\n",
        "\n",
        "X, y = [], []\n",
        "for i in range(60, len(scaled_data)):\n",
        "    X.append(scaled_data[i-60:i])\n",
        "    y.append(scaled_data[i])\n",
        "X, y = np.array(X), np.array(y)\n",
        "\n",
        "\n",
        "model = Sequential()\n",
        "model.add(LSTM(50, return_sequences=True, input_shape=(X.shape[1], 1)))\n",
        "model.add(LSTM(50))\n",
        "model.add(Dense(1))\n",
        "model.compile(optimizer='adam', loss='mean_squared_error')\n",
        "model.fit(X, y, epochs=10, batch_size=32)\n",
        "\n",
        "\n",
        "predicted = model.predict(X)\n",
        "predicted = scaler.inverse_transform(predicted)\n",
        "\n",
        "plt.plot(close_prices[60:], label='Actual')\n",
        "plt.plot(predicted, label='Predicted')\n",
        "plt.legend()\n",
        "plt.show()"
      ]
    }
  ]
}